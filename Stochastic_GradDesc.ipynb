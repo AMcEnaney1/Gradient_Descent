{
 "cells": [
  {
   "cell_type": "code",
   "execution_count": 1,
   "id": "d96c8f57-c7a7-4d0a-83d3-26db01f8078b",
   "metadata": {},
   "outputs": [],
   "source": [
    "# Aidan McEnaney\n",
    "# April 25th, 2023"
   ]
  },
  {
   "cell_type": "code",
   "execution_count": 2,
   "id": "10d004d8-7300-43d5-a196-f10746a18a2a",
   "metadata": {},
   "outputs": [],
   "source": [
    "import numpy as np\n",
    "import random\n",
    "import matplotlib.pyplot as plt"
   ]
  },
  {
   "cell_type": "code",
   "execution_count": 3,
   "id": "3d1e67d6-ff06-45f5-88ab-0d6cdc639c00",
   "metadata": {},
   "outputs": [],
   "source": [
    "# Cell for functions\n",
    "\n",
    "def stochGradDesc(func, theta, step, iters, size, yi):\n",
    "    vals = [None] * (iters+1)\n",
    "    vals[0] = list(theta)\n",
    "    \n",
    "    yi = random.choices(yi, k=size)\n",
    "    \n",
    "    for i in range(iters):\n",
    "        for j in range(len(theta)):\n",
    "            theta[j] = np.array(theta[j]) - step*(func(theta, yi))[j]\n",
    "        vals[i+1] = list(theta)\n",
    "        \n",
    "    return theta, vals\n",
    "\n",
    "def f(x, yi):\n",
    "    tmp = 0\n",
    "    \n",
    "    for i in range(len(yi)):\n",
    "        tmp += (x-yi[i])**2 - np.cos(x)\n",
    "    \n",
    "    return tmp\n",
    "\n",
    "def df(x, yi): # Function for gradients\n",
    "    tmp = 0\n",
    "    \n",
    "    for i in range(len(yi)):\n",
    "        tmp += 2*x - 2*yi[i] + np.sin(x)\n",
    "    \n",
    "    return tmp/len(yi)\n",
    "\n",
    "def ddf(x):\n",
    "    return 2 + np.cos(x)\n"
   ]
  },
  {
   "cell_type": "code",
   "execution_count": 4,
   "id": "e99de6f8-f160-4892-9526-112427d1251b",
   "metadata": {},
   "outputs": [],
   "source": [
    "# Define variables and constants\n",
    "n = 1000\n",
    "nDet = 500\n",
    "mu = 0\n",
    "sigma = 1\n",
    "L = 3 # L-Smooth constant for gradient\n",
    "alpha = 1/L\n",
    "steps = 30\n",
    "batS = 1 # Batch Size\n",
    "init_theta = [50]\n",
    "\n",
    "yi = np.random.normal(mu, sigma, nDet)\n",
    "yi = list(yi)\n",
    "yi2 = [None] * (n-nDet)\n",
    "\n",
    "for i in range(len(yi)):\n",
    "    yi2[i] = -1 * yi[i]\n",
    "\n",
    "yi = yi+yi2\n",
    "\n",
    "theta, vals = stochGradDesc(df, init_theta, alpha, steps, batS, yi)"
   ]
  },
  {
   "cell_type": "code",
   "execution_count": 5,
   "id": "271b6b18-c459-495e-a8bd-7a6ce4af8fb4",
   "metadata": {},
   "outputs": [
    {
     "data": {
      "text/plain": [
       "[<matplotlib.lines.Line2D at 0x7f916c6987f0>]"
      ]
     },
     "execution_count": 5,
     "metadata": {},
     "output_type": "execute_result"
    },
    {
     "data": {
      "image/png": "[encoded data removed]",
      "text/plain": [
       "<Figure size 640x480 with 1 Axes>"
      ]
     },
     "metadata": {},
     "output_type": "display_data"
    }
   ],
   "source": [
    "f = [None] * (len(vals))\n",
    "x = range(len(vals))\n",
    "\n",
    "for i in range(len(vals)):\n",
    "    f[i] = np.linalg.norm(np.array(vals[i]) - np.array([0]))\n",
    "\n",
    "plt.title(\"Value vs time\")\n",
    "plt.xlabel(\"Time\")\n",
    "plt.ylabel(\"Value\")\n",
    "plt.plot(x, f) "
   ]
  },
  {
   "cell_type": "code",
   "execution_count": null,
   "id": "6885147a-465b-495f-a48b-13e4dc5836c4",
   "metadata": {},
   "outputs": [],
   "source": []
  }
 ],
 "metadata": {
  "kernelspec": {
   "display_name": "Python 3 (ipykernel)",
   "language": "python",
   "name": "python3"
  },
  "language_info": {
   "codemirror_mode": {
    "name": "ipython",
    "version": 3
   },
   "file_extension": ".py",
   "mimetype": "text/x-python",
   "name": "python",
   "nbconvert_exporter": "python",
   "pygments_lexer": "ipython3",
   "version": "3.9.13"
  }
 },
 "nbformat": 4,
 "nbformat_minor": 5
}
